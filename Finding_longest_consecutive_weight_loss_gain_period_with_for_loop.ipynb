{
  "nbformat": 4,
  "nbformat_minor": 0,
  "metadata": {
    "colab": {
      "name": "Finding longest consecutive weight loss/gain period with for loop.ipynb",
      "provenance": [],
      "authorship_tag": "ABX9TyODM9PyrZ9xU9jjc8OyfctE",
      "include_colab_link": true
    },
    "kernelspec": {
      "name": "python3",
      "display_name": "Python 3"
    },
    "language_info": {
      "name": "python"
    }
  },
  "cells": [
    {
      "cell_type": "markdown",
      "metadata": {
        "id": "view-in-github",
        "colab_type": "text"
      },
      "source": [
        "<a href=\"https://colab.research.google.com/github/jyotidabass/Finding-longest-consecutive-weight-loss-gain-period-with-for-loop/blob/main/Finding_longest_consecutive_weight_loss_gain_period_with_for_loop.ipynb\" target=\"_parent\"><img src=\"https://colab.research.google.com/assets/colab-badge.svg\" alt=\"Open In Colab\"/></a>"
      ]
    },
    {
      "cell_type": "code",
      "execution_count": 1,
      "metadata": {
        "colab": {
          "base_uri": "https://localhost:8080/"
        },
        "id": "FamgQwNjTOa8",
        "outputId": "46efcff4-16e7-494d-c541-fab8da6ec24b"
      },
      "outputs": [
        {
          "output_type": "stream",
          "name": "stdout",
          "text": [
            "Cloning into 'hayward_weightloss'...\n",
            "remote: Enumerating objects: 7, done.\u001b[K\n",
            "remote: Total 7 (delta 0), reused 0 (delta 0), pack-reused 7\u001b[K\n",
            "Unpacking objects: 100% (7/7), done.\n"
          ]
        }
      ],
      "source": [
        "!git clone https://github.com/ghayward/hayward_weightloss.git"
      ]
    },
    {
      "cell_type": "code",
      "source": [
        "#!/usr/bin/env python\n",
        "# coding: utf-8\n",
        "\n",
        "# In[1]:\n",
        "\n",
        "\n",
        "#let's use pandas\n",
        "import pandas as pd\n",
        "\n",
        "\n",
        "# In[2]:\n",
        "\n",
        "\n",
        "#I used to be very over-weight, and after I lost about 90lbs,\n",
        "#I started to very carefully monitor my weight on an iPhone app. \n",
        "#The app lets me export the weight as a CSV file.\n",
        "weight = pd.read_csv('/content/hayward_weightloss/WeightDrop-Export-2019-04-10.csv')\n",
        "\n",
        "\n",
        "# In[3]:\n",
        "\n",
        "\n",
        "#Let's get a sense of the data.\n",
        "print(weight.head())\n",
        "\n",
        "\n",
        "# In[4]:\n",
        "\n",
        "\n",
        "#What time perioid does the data span?\n",
        "import datetime\n",
        "format_str = '%m/%d/%y' #Setting up the format\n",
        "#Key in this part is that the weight data is in chronological order. \n",
        "first_date = datetime.datetime.strptime(weight.date.iloc[0], format_str)\n",
        "last_date = datetime.datetime.strptime(weight.date.iloc[-1], format_str)\n",
        "#Let's make the formatting look nice.\n",
        "print('{:%Y-%m-%d}'.format(first_date))\n",
        "print('{:%Y-%m-%d}'.format(last_date))\n",
        "#Let's subtract only on the dates (since the hours, mins, secs, microsecs, will all be 0)\n",
        "print(str((last_date - first_date).days)+' days')\n",
        "\n",
        "\n",
        "# In[5]:\n",
        "\n",
        "\n",
        "#How much has my weight fluctuated?\n",
        "print(str(round(weight.weight.max() - weight.weight.min()))+' lbs')\n",
        "\n",
        "\n",
        "# In[6]:\n",
        "\n",
        "\n",
        "#What's my longest period of consecutive weight gain?\n",
        "#We'll use this to store values on during the for loop.\n",
        "longest_set = 0\n",
        "current_set = 0\n",
        "longest_streak_end_date = 0\n",
        "\n",
        "#Since we have a next-element iteration, we need to run the 'i's' for 1 less than the length\\\n",
        "#of the data frame or else we'll reach the end and look for a '+1' element where none will\\\n",
        "#exist because we are at the end of the list, and the script will blow up.\n",
        "for i in range(len(weight)-1):\n",
        "    \n",
        "    #this asks, if the next element is more than the prior one (so a weight gain)\\\n",
        "    #if it is we add 1 to the current set...and we'll keep adding 1 to the current set\\\n",
        "    #until we see that the streak has ended.\n",
        "    if weight.weight[i] < weight.weight[i + 1]:\n",
        "        current_set += 1\n",
        "   \n",
        "    #next, we say that if the above is NOT the case, we sort of re-set our script. If we're\\\n",
        "    #here, we know the streak has ended. So we want to store the current_set value as the\\\n",
        "    #longest_set (which we do with the max function), and then we re-set the current set to 0.\n",
        "    elif weight.weight[i] >= weight.weight[i + 1]:\n",
        "        longest_set = max(longest_set, current_set)\n",
        "        current_set = 0 \n",
        "     \n",
        "    #I think we can't use an else here because we don't want to do it in all times when a\\\n",
        "    #streak is broken. Basically, if the current streak is at any time greater than the\\\n",
        "    #longest streak, we then want to make sure we note that date, and this will do that.\n",
        "    if current_set > longest_set:\n",
        "        longest_streak_end_date = weight.date[i + 1]\n",
        "        \n",
        "    #I did not use an 'else:' here because I wanted the logic to be like a fork, more and\\\n",
        "    #then a return, then a regular tree. In other words. A or B then we do C. I did not want\\\n",
        "    #A then B then C, and I thought that an else would give us that later kind of thing. For\\\n",
        "    #me the way I looked at the else was if A did not happen, then else would always happen.\\\n",
        "    #But really what I wanted was that if A did not happen or did happen, else would sometimes\\\n",
        "    #happen. So, here I actually wanted another if. \n",
        "    \n",
        "print(str(max(longest_set, current_set))+' days consecutive weight gain ending on '      +str(longest_streak_end_date))\n",
        "    \n",
        "\n",
        "\n",
        "# In[7]:\n",
        "\n",
        "\n",
        "#What's my longest period of consecutive weight loss?\n",
        "longest_set = 0\n",
        "current_set = 0\n",
        "longest_streak_end_date = 0\n",
        "\n",
        "for i in range(len(weight)-1):\n",
        "    \n",
        "    if weight.weight[i] > weight.weight[i + 1]:\n",
        "        current_set += 1\n",
        "   \n",
        "    elif weight.weight[i] <= weight.weight[i + 1]:\n",
        "        longest_set = max(longest_set, current_set)\n",
        "        current_set = 0 \n",
        "        \n",
        "    if current_set > longest_set:\n",
        "        longest_streak_end_date = weight.date[i + 1]\n",
        "    \n",
        "print(str(max(longest_set, current_set))+' days consecutive weight loss ending on '      +str(longest_streak_end_date))"
      ],
      "metadata": {
        "colab": {
          "base_uri": "https://localhost:8080/"
        },
        "id": "2AmpJB50TRCF",
        "outputId": "03524df7-e457-41d9-8894-f340445d281a"
      },
      "execution_count": 3,
      "outputs": [
        {
          "output_type": "stream",
          "name": "stdout",
          "text": [
            "       date  weight\n",
            "0  10/10/17   189.0\n",
            "1  10/11/17   188.0\n",
            "2  10/14/17   187.6\n",
            "3  10/15/17   187.2\n",
            "4  10/16/17   186.2\n",
            "2017-10-10\n",
            "2019-04-10\n",
            "547 days\n",
            "16 lbs\n",
            "4 days consecutive weight gain ending on 1/2/18\n",
            "5 days consecutive weight loss ending on 3/13/19\n"
          ]
        }
      ]
    }
  ]
}